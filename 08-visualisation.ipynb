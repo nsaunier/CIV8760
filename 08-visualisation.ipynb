{
 "cells": [
  {
   "cell_type": "markdown",
   "metadata": {},
   "source": [
    "< 7. [Modèles statistiques](07-modeles-statistiques.ipynb) | [Contents](index.ipynb) | 9. [Fouille de données](09-fouille-donnees.ipynb) >"
   ]
  },
  {
   "cell_type": "markdown",
   "metadata": {},
   "source": [
    "* Mobules Python matplotlib http://matplotlib.org/, pandas https://pandas.pydata.org/pandas-docs/stable/reference/plotting.html et seaborn http://seaborn.pydata.org/\n",
    "* Bibliothèque Javascript https://d3js.org/"
   ]
  }
 ],
 "metadata": {
  "kernelspec": {
   "display_name": "Python 3 (ipykernel)",
   "language": "python",
   "name": "python3"
  },
  "language_info": {
   "codemirror_mode": {
    "name": "ipython",
    "version": 3
   },
   "file_extension": ".py",
   "mimetype": "text/x-python",
   "name": "python",
   "nbconvert_exporter": "python",
   "pygments_lexer": "ipython3",
   "version": "3.11.4"
  }
 },
 "nbformat": 4,
 "nbformat_minor": 4
}
