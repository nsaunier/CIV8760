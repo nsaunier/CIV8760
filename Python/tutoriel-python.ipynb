{
 "cells": [
  {
   "cell_type": "markdown",
   "metadata": {},
   "source": [
    "<< [Table des matières](../index.ipynb)\n",
    "\n",
    "# Introduction\n",
    "## Objectifs\n",
    "* Se familiariser avec Python et les Jupyter Notebook\n",
    " * comprendre les exemples présentés tout au long du cours, en traitement de données, données spatiales, analyse statistique et fouille de données\n",
    "* Commencer avec quelques exemples\n",
    " * de jeux de donnees et leurs attributs\n",
    " * de notions d'algorithmes: structures de donnees et de contrôle\n",
    "\n",
    "## Bonnes pratiques\n",
    "Wilson G, Aruliah DA, Brown CT, Chue Hong NP, Davis M, Guy RT, et al. (2014) Best Practices for Scientific Computing. PLoS Biol 12(1): e1001745. https://doi.org/10.1371/journal.pbio.1001745\n",
    "* Write Programs for People, Not Computers\n",
    "* Let the Computer Do the Work\n",
    "* Make Incremental Changes\n",
    "* Don't Repeat Yourself (or Others)\n",
    "* Plan for Mistakes\n",
    "* Optimize Software Only after It Works Correctly\n",
    "* Document Design and Purpose, Not Mechanics\n",
    "* Collaborate\n",
    "\n",
    "## Principes\n",
    "* Automatiser, \"soyez fainéant !\": un ordinateur est idiot et idéal pour les taches répétitives: permet de traiter de larges ensembles de données\n",
    "* Réutiliser votre code\n",
    "* Devenir autonome: résoudre un autre problème, apprendre un autre langage\n",
    "* Apprendre à contrôler son ordinateur: au lieu de se limiter aux programmes pensés et écrits par d'autres\n",
    " * Program or be programmed (Douglas Rushkoff, http://rushkoff.com/program/)\n",
    "* Comprendre ce qu'il est possible de programmer, et comment le faire: le but n'est pas d'apprendre Python, mais un langage de programmation moderne et puissant\n",
    "* Assurer la répétabilité et traçabilité de vos traitements de données pour faire du travail de bonne qualité\n",
    "\n",
    "## Méthode\n",
    "* Développement itératif: faire la chose la plus simple qui peut marcher (\"do the simplest thing that could possibly work\") et raffiner (re-factoriser)\n",
    " * méthodes de développement logiciel agiles\n",
    " * \"premature optimization is the root of all evil\" (Don Knuth http://en.wikipedia.org/wiki/Program_optimization)\n",
    " * tester interactivement le code dans l'interpréteur, manipulation directe des variables\n",
    "* Ne pas se répéter: éviter la duplication de code\n",
    "* Style de programmation\n",
    " * choisir un style d'écriture et s'y tenir\n",
    " * utiliser des noms explicites, éviter les commentaires: si les commentaires sont trop long, cela veut dire que le code est compliqué et pourrait être simplifié\n",
    "* Attention aux détails et patience\n",
    " * reconnaître les différences\n",
    " * il faut rester rationnel\n",
    "  * l'ordinateur est idiot et suit vos instructions les unes après les autres: s'il y a un bug, c'est vous qui l'avez créé"
   ]
  },
  {
   "cell_type": "markdown",
   "metadata": {},
   "source": [
    "# Python\n",
    "* Avantages\n",
    " * Orienté-objet: ré-utilisation du code\n",
    " * Libre (\"open source\"): gratuit à utiliser et distribuer\n",
    " * Flexibilité\n",
    " * Largement utilisé et bonne documentation: automatiser VISSIM, Aimsun, QGIS et ArcGIS\n",
    " * Plus facile à lire et apprendre que d'autres langages: relire et reprendre votre code dans 6 mois est comme écrire pour être relu par un autre être humain\n",
    " * Multi-plateforme, langage \"glue\", \"Bindings\" pour de nombreux langages et bibliothèques\n",
    " * Bibliothèques scientifiques, visualisation, SIG: scipy, numpy, matplotlib, pandas, scikit-image, scikit-learn, shapely, geopandas\n",
    "* Faiblesses: vitesse (langage interprété), manque de certains outils de calcul numérique et statistique (matlab)\n",
    "* Description\n",
    " * Langage interprété et interpréteur\n",
    " * Version 3 vs 2\n",
    " * Code = fichier texte, extension `.py`\n",
    " * Les commentaires commencent par `#`\n",
    " * Scripts et modules (bibliothèques)\n",
    " * Large bibliothèque standard (\"standard library\", \"batteries included\") http://docs.python.org/library/"
   ]
  },
  {
   "cell_type": "code",
   "execution_count": 1,
   "metadata": {},
   "outputs": [
    {
     "name": "stdout",
     "output_type": "stream",
     "text": [
      "The Zen of Python, by Tim Peters\n",
      "\n",
      "Beautiful is better than ugly.\n",
      "Explicit is better than implicit.\n",
      "Simple is better than complex.\n",
      "Complex is better than complicated.\n",
      "Flat is better than nested.\n",
      "Sparse is better than dense.\n",
      "Readability counts.\n",
      "Special cases aren't special enough to break the rules.\n",
      "Although practicality beats purity.\n",
      "Errors should never pass silently.\n",
      "Unless explicitly silenced.\n",
      "In the face of ambiguity, refuse the temptation to guess.\n",
      "There should be one-- and preferably only one --obvious way to do it.\n",
      "Although that way may not be obvious at first unless you're Dutch.\n",
      "Now is better than never.\n",
      "Although never is often better than *right* now.\n",
      "If the implementation is hard to explain, it's a bad idea.\n",
      "If the implementation is easy to explain, it may be a good idea.\n",
      "Namespaces are one honking great idea -- let's do more of those!\n"
     ]
    }
   ],
   "source": [
    "# esprit de Python\n",
    "import this"
   ]
  },
  {
   "cell_type": "markdown",
   "metadata": {},
   "source": [
    "## Ligne de commande et interpréteur\n",
    "* Ne pas avoir peur d'écrire\n",
    "* L'interpréteur est une calculatrice\n",
    "* Simplifié par la complétion automatique et l'historique des commandes (+ facilités syntaxiques)\n",
    " * Ligne de commande avancée: IPython\n",
    "* Évaluer des expressions et des variables\n",
    " * `help`, `?`"
   ]
  },
  {
   "cell_type": "code",
   "execution_count": 2,
   "metadata": {},
   "outputs": [
    {
     "name": "stdout",
     "output_type": "stream",
     "text": [
      "Hello World\n",
      "Hello World\n"
     ]
    },
    {
     "name": "stdin",
     "output_type": "stream",
     "text": [
      "Bonjour, comment vous appelez-vous ?  Nicolas\n"
     ]
    },
    {
     "name": "stdout",
     "output_type": "stream",
     "text": [
      "Bonjour Nicolas\n"
     ]
    }
   ],
   "source": [
    "print(\"Hello World\")\n",
    "s = \"Hello World\"\n",
    "print(s)\n",
    "reponse = input('Bonjour, comment vous appelez-vous ? ')\n",
    "print('Bonjour '+reponse)"
   ]
  },
  {
   "cell_type": "code",
   "execution_count": 3,
   "metadata": {},
   "outputs": [
    {
     "name": "stdin",
     "output_type": "stream",
     "text": [
      "Bonjour, comment vous appelez-vous ?  Nicolas\n"
     ]
    },
    {
     "name": "stdout",
     "output_type": "stream",
     "text": [
      "Hello Nicolas\n"
     ]
    }
   ],
   "source": [
    "%run ./script01.py # commande magique ipython"
   ]
  },
  {
   "cell_type": "markdown",
   "metadata": {},
   "source": [
    "## Jupyter Notebook\n",
    "* Environnement computationnel interactif web pour créer des carnets (\"notebooks\")\n",
    " * document JSON contenant une liste ordonnée de cellule d'entrée/sortie qui peuvent contenir du code, du texte, des formules mathématiques, des graphiques, etc.\n",
    "* Versions Python, R, Julia\n",
    "* Les notebooks peuvent être convertis dans plusieurs formats standards ouverts (HTML, diapositifs, LaTeX, PDF, ReStructuredText, Markdown, Python)\n",
    "* Processus de travail similaire à l'interpréteur\n",
    "* Outil de communication"
   ]
  },
  {
   "cell_type": "markdown",
   "metadata": {},
   "source": [
    "## Types de données de base\n",
    "* booléen (binaire)\n",
    "* numérique: entier, réel\n",
    "* chaîne de caractère\n",
    "* liste, tuple, ensembles\n",
    "* dictionnaire"
   ]
  },
  {
   "cell_type": "code",
   "execution_count": 4,
   "metadata": {},
   "outputs": [
    {
     "data": {
      "text/plain": [
       "str"
      ]
     },
     "execution_count": 4,
     "metadata": {},
     "output_type": "execute_result"
    }
   ],
   "source": [
    "type('Hello')"
   ]
  },
  {
   "cell_type": "code",
   "execution_count": 5,
   "metadata": {},
   "outputs": [
    {
     "data": {
      "text/plain": [
       "int"
      ]
     },
     "execution_count": 5,
     "metadata": {},
     "output_type": "execute_result"
    }
   ],
   "source": [
    "type(4)"
   ]
  },
  {
   "cell_type": "code",
   "execution_count": 6,
   "metadata": {},
   "outputs": [
    {
     "data": {
      "text/plain": [
       "float"
      ]
     },
     "execution_count": 6,
     "metadata": {},
     "output_type": "execute_result"
    }
   ],
   "source": [
    "type(4.5)"
   ]
  },
  {
   "cell_type": "code",
   "execution_count": 7,
   "metadata": {},
   "outputs": [
    {
     "data": {
      "text/plain": [
       "bool"
      ]
     },
     "execution_count": 7,
     "metadata": {},
     "output_type": "execute_result"
    }
   ],
   "source": [
    "type(True)"
   ]
  },
  {
   "cell_type": "code",
   "execution_count": 8,
   "metadata": {},
   "outputs": [
    {
     "data": {
      "text/plain": [
       "list"
      ]
     },
     "execution_count": 8,
     "metadata": {},
     "output_type": "execute_result"
    }
   ],
   "source": [
    "type([])"
   ]
  },
  {
   "cell_type": "code",
   "execution_count": 9,
   "metadata": {},
   "outputs": [
    {
     "data": {
      "text/plain": [
       "list"
      ]
     },
     "execution_count": 9,
     "metadata": {},
     "output_type": "execute_result"
    }
   ],
   "source": [
    "type([2,3])"
   ]
  },
  {
   "cell_type": "code",
   "execution_count": 10,
   "metadata": {},
   "outputs": [
    {
     "data": {
      "text/plain": [
       "dict"
      ]
     },
     "execution_count": 10,
     "metadata": {},
     "output_type": "execute_result"
    }
   ],
   "source": [
    "type({})"
   ]
  },
  {
   "cell_type": "code",
   "execution_count": 11,
   "metadata": {},
   "outputs": [
    {
     "data": {
      "text/plain": [
       "dict"
      ]
     },
     "execution_count": 11,
     "metadata": {},
     "output_type": "execute_result"
    }
   ],
   "source": [
    "type({1: 'sdfasd', 'g': [1,2]})"
   ]
  },
  {
   "cell_type": "code",
   "execution_count": 12,
   "metadata": {},
   "outputs": [
    {
     "data": {
      "text/plain": [
       "tuple"
      ]
     },
     "execution_count": 12,
     "metadata": {},
     "output_type": "execute_result"
    }
   ],
   "source": [
    "type((2,3))"
   ]
  },
  {
   "cell_type": "code",
   "execution_count": 13,
   "metadata": {},
   "outputs": [
    {
     "data": {
      "text/plain": [
       "__main__.A"
      ]
     },
     "execution_count": 13,
     "metadata": {},
     "output_type": "execute_result"
    }
   ],
   "source": [
    "# enregistrement vide\n",
    "class A:\n",
    "    pass\n",
    "a = A()\n",
    "a.x = 10\n",
    "a.y = -2.3\n",
    "type(a)"
   ]
  },
  {
   "cell_type": "code",
   "execution_count": 14,
   "metadata": {},
   "outputs": [
    {
     "data": {
      "text/plain": [
       "4"
      ]
     },
     "execution_count": 14,
     "metadata": {},
     "output_type": "execute_result"
    }
   ],
   "source": [
    "a = 2\n",
    "a = 2.3\n",
    "a = 'hello' # les variables n'ont pas de type\n",
    "#b = a + 3 # les valeurs ont un type\n",
    "a = 4\n",
    "b = a + 3\n",
    "b\n",
    "a"
   ]
  },
  {
   "cell_type": "code",
   "execution_count": 15,
   "metadata": {},
   "outputs": [
    {
     "data": {
      "text/plain": [
       "3"
      ]
     },
     "execution_count": 15,
     "metadata": {},
     "output_type": "execute_result"
    }
   ],
   "source": [
    "# conversions entre types\n",
    "int('3')"
   ]
  },
  {
   "cell_type": "code",
   "execution_count": 16,
   "metadata": {},
   "outputs": [
    {
     "data": {
      "text/plain": [
       "'3'"
      ]
     },
     "execution_count": 16,
     "metadata": {},
     "output_type": "execute_result"
    }
   ],
   "source": [
    "str(3)"
   ]
  },
  {
   "cell_type": "code",
   "execution_count": 17,
   "metadata": {},
   "outputs": [
    {
     "data": {
      "text/plain": [
       "True"
      ]
     },
     "execution_count": 17,
     "metadata": {},
     "output_type": "execute_result"
    }
   ],
   "source": [
    "# opération\n",
    "i=1\n",
    "i == 1"
   ]
  },
  {
   "cell_type": "code",
   "execution_count": 18,
   "metadata": {},
   "outputs": [
    {
     "data": {
      "text/plain": [
       "False"
      ]
     },
     "execution_count": 18,
     "metadata": {},
     "output_type": "execute_result"
    }
   ],
   "source": [
    "i+=1\n",
    "i == 1"
   ]
  },
  {
   "cell_type": "code",
   "execution_count": 19,
   "metadata": {},
   "outputs": [
    {
     "data": {
      "text/plain": [
       "4"
      ]
     },
     "execution_count": 19,
     "metadata": {},
     "output_type": "execute_result"
    }
   ],
   "source": [
    "a"
   ]
  },
  {
   "cell_type": "code",
   "execution_count": 20,
   "metadata": {},
   "outputs": [
    {
     "data": {
      "text/plain": [
       "True"
      ]
     },
     "execution_count": 20,
     "metadata": {},
     "output_type": "execute_result"
    }
   ],
   "source": [
    "i == 2"
   ]
  },
  {
   "cell_type": "markdown",
   "metadata": {},
   "source": [
    "## Exercice\n",
    "Écrire un programme qui demande une vitesse et calcule le temps et la distance nécessaire pour s'arrêter. Le temps de perception réaction est 1.5 s et la décélération du véhicule est -1 m/s2. "
   ]
  },
  {
   "cell_type": "code",
   "execution_count": 21,
   "metadata": {},
   "outputs": [
    {
     "name": "stdout",
     "output_type": "stream",
     "text": [
      "À quelle vitesse roule le véhicule (km/h) ?\n",
      "Le temps de freinage est None et la distance de freinage est None\n"
     ]
    }
   ],
   "source": [
    "print('À quelle vitesse roule le véhicule (km/h) ?')\n",
    "vitesse = None\n",
    "temps = None\n",
    "distance = None\n",
    "print('Le temps de freinage est', temps, 'et la distance de freinage est', distance)"
   ]
  },
  {
   "cell_type": "code",
   "execution_count": 22,
   "metadata": {},
   "outputs": [
    {
     "name": "stdout",
     "output_type": "stream",
     "text": [
      "[0, 1, 2, 3, 4, 5, 6, 7, 8, 9]\n",
      "0\n",
      "9\n",
      "8\n",
      "[0, 1, -10, 3, 4, 5, 6, 7, 8, 9]\n",
      "[-10, 0, 1, 3, 4, 5, 6, 7, 8, 9]\n",
      "[-10, 0, 1, 3, 4, 5, 6, 7, 8, 9, -100]\n",
      "[0, 1, 3, 4, 5, 6, 7, 8, 9, -100]\n",
      "[0, 1, 3, 'hello', 5, 6, 7, 8, 9, -100]\n"
     ]
    }
   ],
   "source": [
    "# listes\n",
    "a = list(range(10))\n",
    "print(a)\n",
    "print(a[0]) # index commence à 0\n",
    "print(a[-1])\n",
    "print(a[-2])\n",
    "a[2] = -10\n",
    "print(a)\n",
    "# méthodes\n",
    "a.sort()\n",
    "print(a)\n",
    "a.append(-100)\n",
    "print(a)\n",
    "del a[0]\n",
    "print(a)\n",
    "a[3] = 'hello'\n",
    "print(a)"
   ]
  },
  {
   "cell_type": "code",
   "execution_count": 23,
   "metadata": {},
   "outputs": [
    {
     "data": {
      "text/plain": [
       "True"
      ]
     },
     "execution_count": 23,
     "metadata": {},
     "output_type": "execute_result"
    }
   ],
   "source": [
    "# appartenance\n",
    "1 in a"
   ]
  },
  {
   "cell_type": "code",
   "execution_count": 24,
   "metadata": {},
   "outputs": [
    {
     "data": {
      "text/plain": [
       "False"
      ]
     },
     "execution_count": 24,
     "metadata": {},
     "output_type": "execute_result"
    }
   ],
   "source": [
    "2 in a"
   ]
  },
  {
   "cell_type": "code",
   "execution_count": 25,
   "metadata": {},
   "outputs": [
    {
     "name": "stdout",
     "output_type": "stream",
     "text": [
      "[0, 1, 2, 'bug', 4, 5, 6, 7, 8, 9]\n",
      "10\n",
      "True\n"
     ]
    }
   ],
   "source": [
    "# références\n",
    "b = list(range(10))\n",
    "c = b\n",
    "c[3] = 'bug'\n",
    "print(b)\n",
    "##\n",
    "a = A()\n",
    "b = a\n",
    "a.x = 10\n",
    "print(b.x)\n",
    "print(a == b) # référence au même objet"
   ]
  },
  {
   "cell_type": "code",
   "execution_count": 26,
   "metadata": {},
   "outputs": [
    {
     "name": "stdout",
     "output_type": "stream",
     "text": [
      "[0, 2, 4, 6, 8, 10, 12, 14, 16, 18]\n",
      "[0, 1, 4, 9, 16, 25, 36, 49, 64, 81]\n"
     ]
    }
   ],
   "source": [
    "# \"list comprehensions\"\n",
    "a = list(range(10))\n",
    "doubles = [2*x for x in a]\n",
    "print(doubles)\n",
    "carres = [x*x for x in a]\n",
    "print(carres)"
   ]
  },
  {
   "cell_type": "markdown",
   "metadata": {},
   "source": [
    "## Structures de contrôle\n",
    "* Séquences d’opérations\n",
    "* Conditionnelles: test si [condition] alors [opération1] (sinon [opération2])\n",
    "* Boucles:\n",
    " * tant que [condition] [opération]\n",
    " * itérateur (compteur) pour [ensemble] [opération]"
   ]
  },
  {
   "cell_type": "code",
   "execution_count": 27,
   "metadata": {},
   "outputs": [
    {
     "name": "stdout",
     "output_type": "stream",
     "text": [
      "0\n",
      "1\n",
      "2\n",
      "3\n",
      "4\n",
      "0\n",
      "1\n",
      "2\n",
      "3\n",
      "4\n",
      "0\n",
      "1\n",
      "2\n",
      "3\n",
      "4\n",
      "[0.75629551 0.85853113 0.17482273 0.40690208 0.16825234 0.44911904\n",
      " 0.41457259 0.691212   0.77884887 0.8656024 ]\n",
      "0.7562955096153294\n",
      "0.8585311337446294\n",
      "Nombre plus petit que 0.5 0.1748227309409376\n",
      "Nombre plus petit que 0.5 0.4069020780187096\n",
      "Nombre plus petit que 0.5 0.1682523381063633\n",
      "Nombre plus petit que 0.5 0.44911904075074693\n",
      "Nombre plus petit que 0.5 0.4145725858783351\n",
      "0.6912119992960153\n",
      "0.7788488735636084\n",
      "0.8656023957570826\n",
      "[0.7562955096153294, 0.8585311337446294, 0.6912119992960153, 0.7788488735636084, 0.8656023957570826]\n"
     ]
    }
   ],
   "source": [
    "# boucles\n",
    "a = list(range(5))\n",
    "for x in a:\n",
    "    print(x)\n",
    "for i in range(len(a)): \n",
    "    print(a[i])\n",
    "i = 0\n",
    "while i<len(a):\n",
    "    print(a[i])\n",
    "    i += 1\n",
    "# test\n",
    "from numpy.random import random_sample\n",
    "b = random_sample(10)\n",
    "print(b)\n",
    "for x in b:\n",
    "    if x > 0.5:\n",
    "        print(x)\n",
    "    else:\n",
    "        print('Nombre plus petit que 0.5', x)\n",
    "# list comprehensions avec test\n",
    "c = [x for x in b if x>0.5]\n",
    "print(c)"
   ]
  },
  {
   "cell_type": "markdown",
   "metadata": {},
   "source": [
    "## Fonctions\n",
    "Les fonctions sont fondamentales pour éviter de répéter du code. Les fonctions ont des arguments (peut être vide) et retourne quelque chose (None si pas de retour explicite). Les arguments de la fonction peuvent avoir des valeurs par défaut (derniers arguments). "
   ]
  },
  {
   "cell_type": "code",
   "execution_count": 28,
   "metadata": {},
   "outputs": [
    {
     "data": {
      "text/plain": [
       "True"
      ]
     },
     "execution_count": 28,
     "metadata": {},
     "output_type": "execute_result"
    }
   ],
   "source": [
    "def test():\n",
    "    x = 0\n",
    "    \n",
    "test() == None"
   ]
  },
  {
   "cell_type": "code",
   "execution_count": 29,
   "metadata": {},
   "outputs": [
    {
     "name": "stdout",
     "output_type": "stream",
     "text": [
      "Un piéton marchant à 1 m/s marche à 3.6 km/h\n"
     ]
    }
   ],
   "source": [
    "def vitesseMetreSecEnKmH(v):\n",
    "    return v*3.6\n",
    "\n",
    "x = 1\n",
    "print(\"Un piéton marchant à {} m/s marche à {} km/h\".format(x,vitesseMetreSecEnKmH(x)))"
   ]
  },
  {
   "cell_type": "markdown",
   "metadata": {},
   "source": [
    "## Exercice\n",
    "1. Modifier le programme de calcul du temps et de la distance de freinage pour donner les réponses pour différentes valeurs de décélération, entre -0.5 et -6 m/s^2 (avec un incrément de -0.5 m/s^2).\n",
    " 1. Faire un graphique du temps (ou de la distance) de freinage en fonction de la vitesse pour différentes valeurs de décélération\n",
    "1. Transformer le programme pour demander à l'utilisateur s'il veut continuer avec d'autres valeurs de vitesses, et ré-itérer la question et les calculs (tant que l'utilisateur veut continuer).\n",
    "1. Compter le nombre de chiffres plus petits que 0.5 dans la liste `b`."
   ]
  },
  {
   "cell_type": "markdown",
   "metadata": {},
   "source": [
    "## Bibliothèques scientifiques\n",
    "* numpy: vecteurs, matrices, etc.\n",
    "* scipy: fonctions scientifiques, en particulier statistiques\n",
    "* matplotlib: graphiques et visualisation\n",
    "* pandas: structures de données (interface et similarité avec SQL)\n",
    "* statsmodels: modèles statistiques\n",
    "* scikit-learn: apprentissage automatique\n",
    "\n",
    "Toutes les bibliothèques doivent être importées avec la commande `import`. La bibliothèque peut être renommée avec `as` (par ex. dans `import numpy as np`). Une classe ou fonction spécifique peut être importée si importée spécifiquement avec la commande `from` (par ex. `from numpy.random import random_sample`), et on peut importer plusieurs classes ou fonction d'un coup en les ajoutant les unes après les autres séparées par des virgules. "
   ]
  },
  {
   "cell_type": "code",
   "execution_count": 30,
   "metadata": {},
   "outputs": [],
   "source": [
    "import urllib.request\n",
    "import zipfile\n",
    "import io\n",
    "\n",
    "import matplotlib.mlab as pylab\n",
    "import matplotlib.pyplot as plt\n",
    "import numpy as np\n",
    "import pandas as pd\n",
    "%matplotlib inline"
   ]
  },
  {
   "cell_type": "code",
   "execution_count": 31,
   "metadata": {},
   "outputs": [
    {
     "name": "stdout",
     "output_type": "stream",
     "text": [
      "[False  True  True  True  True False  True False False  True]\n",
      "[0.13658951 0.64078465 0.79831844 0.87565247 0.7597987  0.14149411\n",
      " 0.90189465 0.30294353 0.03606934 0.62972993]\n",
      "[0.64078465 0.79831844 0.87565247 0.7597987  0.90189465 0.62972993]\n"
     ]
    }
   ],
   "source": [
    "# exemples numpy\n",
    "a = np.arange(10) # similaire a range(10), retourne une array\n",
    "b = np.zeros((4,5))\n",
    "c = np.ones((4,5))\n",
    "a = np.random.random_sample(10)\n",
    "# éviter les boucles, extraire des sous-vecteurs (comme avec matlab)\n",
    "b = a>0.5\n",
    "print(b)\n",
    "c = a[b]\n",
    "print(a)\n",
    "print(c)"
   ]
  },
  {
   "cell_type": "code",
   "execution_count": 32,
   "metadata": {},
   "outputs": [
    {
     "data": {
      "text/plain": [
       "array([  73.26293397, 1447.27109541])"
      ]
     },
     "execution_count": 32,
     "metadata": {},
     "output_type": "execute_result"
    },
    {
     "data": {
      "image/png": "[encoded data removed]",
      "text/plain": [
       "<Figure size 432x288 with 1 Axes>"
      ]
     },
     "metadata": {
      "needs_background": "light"
     },
     "output_type": "display_data"
    }
   ],
   "source": [
    "# charger des matrices\n",
    "data = np.loadtxt('../donnees/vitesse-debit.txt')\n",
    "plt.plot(data[:,0], data[:,1], 'o')\n",
    "data.mean(0)"
   ]
  },
  {
   "cell_type": "markdown",
   "metadata": {},
   "source": [
    "## Exercice\n",
    "Sachant que la première colonne du fichier `vitesse-debit.txt` est la vitesse moyenne et la seconde le débit, calculer la densité (égale au débit divisé par la vitesse) et tracer le graphique de la vitesse en fonction de la densité."
   ]
  },
  {
   "cell_type": "markdown",
   "metadata": {},
   "source": [
    "## Exemple de fichier csv avec en-tête avec différents types de données\n",
    "Cet exemple utilise la structure de données `DataFrame` de la bibliothèque `pandas`."
   ]
  },
  {
   "cell_type": "code",
   "execution_count": 33,
   "metadata": {},
   "outputs": [
    {
     "name": "stdout",
     "output_type": "stream",
     "text": [
      "<class 'pandas.core.frame.DataFrame'>\n",
      "RangeIndex: 38 entries, 0 to 37\n",
      "Data columns (total 8 columns):\n",
      " #   Column        Non-Null Count  Dtype  \n",
      "---  ------        --------------  -----  \n",
      " 0   Country       38 non-null     object \n",
      " 1   Car           38 non-null     object \n",
      " 2   MPG           38 non-null     float64\n",
      " 3   Weight        38 non-null     float64\n",
      " 4   Drive_Ratio   38 non-null     float64\n",
      " 5   Horsepower    38 non-null     int64  \n",
      " 6   Displacement  38 non-null     int64  \n",
      " 7   Cylinders     38 non-null     int64  \n",
      "dtypes: float64(3), int64(3), object(2)\n",
      "memory usage: 2.5+ KB\n",
      "None\n"
     ]
    },
    {
     "data": {
      "text/html": [
       "<div>\n",
       "<style scoped>\n",
       "    .dataframe tbody tr th:only-of-type {\n",
       "        vertical-align: middle;\n",
       "    }\n",
       "\n",
       "    .dataframe tbody tr th {\n",
       "        vertical-align: top;\n",
       "    }\n",
       "\n",
       "    .dataframe thead th {\n",
       "        text-align: right;\n",
       "    }\n",
       "</style>\n",
       "<table border=\"1\" class=\"dataframe\">\n",
       "  <thead>\n",
       "    <tr style=\"text-align: right;\">\n",
       "      <th></th>\n",
       "      <th>Country</th>\n",
       "      <th>Car</th>\n",
       "      <th>MPG</th>\n",
       "      <th>Weight</th>\n",
       "      <th>Drive_Ratio</th>\n",
       "      <th>Horsepower</th>\n",
       "      <th>Displacement</th>\n",
       "      <th>Cylinders</th>\n",
       "    </tr>\n",
       "  </thead>\n",
       "  <tbody>\n",
       "    <tr>\n",
       "      <th>0</th>\n",
       "      <td>U.S.</td>\n",
       "      <td>Buick Estate Wagon</td>\n",
       "      <td>16.9</td>\n",
       "      <td>4.360</td>\n",
       "      <td>2.73</td>\n",
       "      <td>155</td>\n",
       "      <td>350</td>\n",
       "      <td>8</td>\n",
       "    </tr>\n",
       "    <tr>\n",
       "      <th>1</th>\n",
       "      <td>U.S.</td>\n",
       "      <td>Ford Country Squire Wagon</td>\n",
       "      <td>15.5</td>\n",
       "      <td>4.054</td>\n",
       "      <td>2.26</td>\n",
       "      <td>142</td>\n",
       "      <td>351</td>\n",
       "      <td>8</td>\n",
       "    </tr>\n",
       "    <tr>\n",
       "      <th>2</th>\n",
       "      <td>U.S.</td>\n",
       "      <td>Chevy Malibu Wagon</td>\n",
       "      <td>19.2</td>\n",
       "      <td>3.605</td>\n",
       "      <td>2.56</td>\n",
       "      <td>125</td>\n",
       "      <td>267</td>\n",
       "      <td>8</td>\n",
       "    </tr>\n",
       "    <tr>\n",
       "      <th>3</th>\n",
       "      <td>U.S.</td>\n",
       "      <td>Chrysler LeBaron Wagon</td>\n",
       "      <td>18.5</td>\n",
       "      <td>3.940</td>\n",
       "      <td>2.45</td>\n",
       "      <td>150</td>\n",
       "      <td>360</td>\n",
       "      <td>8</td>\n",
       "    </tr>\n",
       "    <tr>\n",
       "      <th>4</th>\n",
       "      <td>U.S.</td>\n",
       "      <td>Chevette</td>\n",
       "      <td>30.0</td>\n",
       "      <td>2.155</td>\n",
       "      <td>3.70</td>\n",
       "      <td>68</td>\n",
       "      <td>98</td>\n",
       "      <td>4</td>\n",
       "    </tr>\n",
       "    <tr>\n",
       "      <th>5</th>\n",
       "      <td>Japan</td>\n",
       "      <td>Toyota Corona</td>\n",
       "      <td>27.5</td>\n",
       "      <td>2.560</td>\n",
       "      <td>3.05</td>\n",
       "      <td>95</td>\n",
       "      <td>134</td>\n",
       "      <td>4</td>\n",
       "    </tr>\n",
       "    <tr>\n",
       "      <th>6</th>\n",
       "      <td>Japan</td>\n",
       "      <td>Datsun 510</td>\n",
       "      <td>27.2</td>\n",
       "      <td>2.300</td>\n",
       "      <td>3.54</td>\n",
       "      <td>97</td>\n",
       "      <td>119</td>\n",
       "      <td>4</td>\n",
       "    </tr>\n",
       "    <tr>\n",
       "      <th>7</th>\n",
       "      <td>U.S.</td>\n",
       "      <td>Dodge Omni</td>\n",
       "      <td>30.9</td>\n",
       "      <td>2.230</td>\n",
       "      <td>3.37</td>\n",
       "      <td>75</td>\n",
       "      <td>105</td>\n",
       "      <td>4</td>\n",
       "    </tr>\n",
       "    <tr>\n",
       "      <th>8</th>\n",
       "      <td>Germany</td>\n",
       "      <td>Audi 5000</td>\n",
       "      <td>20.3</td>\n",
       "      <td>2.830</td>\n",
       "      <td>3.90</td>\n",
       "      <td>103</td>\n",
       "      <td>131</td>\n",
       "      <td>5</td>\n",
       "    </tr>\n",
       "    <tr>\n",
       "      <th>9</th>\n",
       "      <td>Sweden</td>\n",
       "      <td>Volvo 240 GL</td>\n",
       "      <td>17.0</td>\n",
       "      <td>3.140</td>\n",
       "      <td>3.50</td>\n",
       "      <td>125</td>\n",
       "      <td>163</td>\n",
       "      <td>6</td>\n",
       "    </tr>\n",
       "    <tr>\n",
       "      <th>10</th>\n",
       "      <td>Sweden</td>\n",
       "      <td>Saab 99 GLE</td>\n",
       "      <td>21.6</td>\n",
       "      <td>2.795</td>\n",
       "      <td>3.77</td>\n",
       "      <td>115</td>\n",
       "      <td>121</td>\n",
       "      <td>4</td>\n",
       "    </tr>\n",
       "    <tr>\n",
       "      <th>11</th>\n",
       "      <td>France</td>\n",
       "      <td>Peugeot 694 SL</td>\n",
       "      <td>16.2</td>\n",
       "      <td>3.410</td>\n",
       "      <td>3.58</td>\n",
       "      <td>133</td>\n",
       "      <td>163</td>\n",
       "      <td>6</td>\n",
       "    </tr>\n",
       "    <tr>\n",
       "      <th>12</th>\n",
       "      <td>U.S.</td>\n",
       "      <td>Buick Century Special</td>\n",
       "      <td>20.6</td>\n",
       "      <td>3.380</td>\n",
       "      <td>2.73</td>\n",
       "      <td>105</td>\n",
       "      <td>231</td>\n",
       "      <td>6</td>\n",
       "    </tr>\n",
       "    <tr>\n",
       "      <th>13</th>\n",
       "      <td>U.S.</td>\n",
       "      <td>Mercury Zephyr</td>\n",
       "      <td>20.8</td>\n",
       "      <td>3.070</td>\n",
       "      <td>3.08</td>\n",
       "      <td>85</td>\n",
       "      <td>200</td>\n",
       "      <td>6</td>\n",
       "    </tr>\n",
       "    <tr>\n",
       "      <th>14</th>\n",
       "      <td>U.S.</td>\n",
       "      <td>Dodge Aspen</td>\n",
       "      <td>18.6</td>\n",
       "      <td>3.620</td>\n",
       "      <td>2.71</td>\n",
       "      <td>110</td>\n",
       "      <td>225</td>\n",
       "      <td>6</td>\n",
       "    </tr>\n",
       "    <tr>\n",
       "      <th>15</th>\n",
       "      <td>U.S.</td>\n",
       "      <td>AMC Concord D/L</td>\n",
       "      <td>18.1</td>\n",
       "      <td>3.410</td>\n",
       "      <td>2.73</td>\n",
       "      <td>120</td>\n",
       "      <td>258</td>\n",
       "      <td>6</td>\n",
       "    </tr>\n",
       "    <tr>\n",
       "      <th>16</th>\n",
       "      <td>U.S.</td>\n",
       "      <td>Chevy Caprice Classic</td>\n",
       "      <td>17.0</td>\n",
       "      <td>3.840</td>\n",
       "      <td>2.41</td>\n",
       "      <td>130</td>\n",
       "      <td>305</td>\n",
       "      <td>8</td>\n",
       "    </tr>\n",
       "    <tr>\n",
       "      <th>17</th>\n",
       "      <td>U.S.</td>\n",
       "      <td>Ford LTD</td>\n",
       "      <td>17.6</td>\n",
       "      <td>3.725</td>\n",
       "      <td>2.26</td>\n",
       "      <td>129</td>\n",
       "      <td>302</td>\n",
       "      <td>8</td>\n",
       "    </tr>\n",
       "    <tr>\n",
       "      <th>18</th>\n",
       "      <td>U.S.</td>\n",
       "      <td>Mercury Grand Marquis</td>\n",
       "      <td>16.5</td>\n",
       "      <td>3.955</td>\n",
       "      <td>2.26</td>\n",
       "      <td>138</td>\n",
       "      <td>351</td>\n",
       "      <td>8</td>\n",
       "    </tr>\n",
       "    <tr>\n",
       "      <th>19</th>\n",
       "      <td>U.S.</td>\n",
       "      <td>Dodge St Regis</td>\n",
       "      <td>18.2</td>\n",
       "      <td>3.830</td>\n",
       "      <td>2.45</td>\n",
       "      <td>135</td>\n",
       "      <td>318</td>\n",
       "      <td>8</td>\n",
       "    </tr>\n",
       "    <tr>\n",
       "      <th>20</th>\n",
       "      <td>U.S.</td>\n",
       "      <td>Ford Mustang 4</td>\n",
       "      <td>26.5</td>\n",
       "      <td>2.585</td>\n",
       "      <td>3.08</td>\n",
       "      <td>88</td>\n",
       "      <td>140</td>\n",
       "      <td>4</td>\n",
       "    </tr>\n",
       "    <tr>\n",
       "      <th>21</th>\n",
       "      <td>U.S.</td>\n",
       "      <td>Ford Mustang Ghia</td>\n",
       "      <td>21.9</td>\n",
       "      <td>2.910</td>\n",
       "      <td>3.08</td>\n",
       "      <td>109</td>\n",
       "      <td>171</td>\n",
       "      <td>6</td>\n",
       "    </tr>\n",
       "    <tr>\n",
       "      <th>22</th>\n",
       "      <td>Japan</td>\n",
       "      <td>Mazda GLC</td>\n",
       "      <td>34.1</td>\n",
       "      <td>1.975</td>\n",
       "      <td>3.73</td>\n",
       "      <td>65</td>\n",
       "      <td>86</td>\n",
       "      <td>4</td>\n",
       "    </tr>\n",
       "    <tr>\n",
       "      <th>23</th>\n",
       "      <td>Japan</td>\n",
       "      <td>Dodge Colt</td>\n",
       "      <td>35.1</td>\n",
       "      <td>1.915</td>\n",
       "      <td>2.97</td>\n",
       "      <td>80</td>\n",
       "      <td>98</td>\n",
       "      <td>4</td>\n",
       "    </tr>\n",
       "    <tr>\n",
       "      <th>24</th>\n",
       "      <td>U.S.</td>\n",
       "      <td>AMC Spirit</td>\n",
       "      <td>27.4</td>\n",
       "      <td>2.670</td>\n",
       "      <td>3.08</td>\n",
       "      <td>80</td>\n",
       "      <td>121</td>\n",
       "      <td>4</td>\n",
       "    </tr>\n",
       "    <tr>\n",
       "      <th>25</th>\n",
       "      <td>Germany</td>\n",
       "      <td>VW Scirocco</td>\n",
       "      <td>31.5</td>\n",
       "      <td>1.990</td>\n",
       "      <td>3.78</td>\n",
       "      <td>71</td>\n",
       "      <td>89</td>\n",
       "      <td>4</td>\n",
       "    </tr>\n",
       "    <tr>\n",
       "      <th>26</th>\n",
       "      <td>Japan</td>\n",
       "      <td>Honda Accord LX</td>\n",
       "      <td>29.5</td>\n",
       "      <td>2.135</td>\n",
       "      <td>3.05</td>\n",
       "      <td>68</td>\n",
       "      <td>98</td>\n",
       "      <td>4</td>\n",
       "    </tr>\n",
       "    <tr>\n",
       "      <th>27</th>\n",
       "      <td>U.S.</td>\n",
       "      <td>Buick Skylark</td>\n",
       "      <td>28.4</td>\n",
       "      <td>2.670</td>\n",
       "      <td>2.53</td>\n",
       "      <td>90</td>\n",
       "      <td>151</td>\n",
       "      <td>4</td>\n",
       "    </tr>\n",
       "    <tr>\n",
       "      <th>28</th>\n",
       "      <td>U.S.</td>\n",
       "      <td>Chevy Citation</td>\n",
       "      <td>28.8</td>\n",
       "      <td>2.595</td>\n",
       "      <td>2.69</td>\n",
       "      <td>115</td>\n",
       "      <td>173</td>\n",
       "      <td>6</td>\n",
       "    </tr>\n",
       "    <tr>\n",
       "      <th>29</th>\n",
       "      <td>U.S.</td>\n",
       "      <td>Olds Omega</td>\n",
       "      <td>26.8</td>\n",
       "      <td>2.700</td>\n",
       "      <td>2.84</td>\n",
       "      <td>115</td>\n",
       "      <td>173</td>\n",
       "      <td>6</td>\n",
       "    </tr>\n",
       "    <tr>\n",
       "      <th>30</th>\n",
       "      <td>U.S.</td>\n",
       "      <td>Pontiac Phoenix</td>\n",
       "      <td>33.5</td>\n",
       "      <td>2.556</td>\n",
       "      <td>2.69</td>\n",
       "      <td>90</td>\n",
       "      <td>151</td>\n",
       "      <td>4</td>\n",
       "    </tr>\n",
       "    <tr>\n",
       "      <th>31</th>\n",
       "      <td>U.S.</td>\n",
       "      <td>Plymouth Horizon</td>\n",
       "      <td>34.2</td>\n",
       "      <td>2.200</td>\n",
       "      <td>3.37</td>\n",
       "      <td>70</td>\n",
       "      <td>105</td>\n",
       "      <td>4</td>\n",
       "    </tr>\n",
       "    <tr>\n",
       "      <th>32</th>\n",
       "      <td>Japan</td>\n",
       "      <td>Datsun 210</td>\n",
       "      <td>31.8</td>\n",
       "      <td>2.020</td>\n",
       "      <td>3.70</td>\n",
       "      <td>65</td>\n",
       "      <td>85</td>\n",
       "      <td>4</td>\n",
       "    </tr>\n",
       "    <tr>\n",
       "      <th>33</th>\n",
       "      <td>Italy</td>\n",
       "      <td>Fiat Strada</td>\n",
       "      <td>37.3</td>\n",
       "      <td>2.130</td>\n",
       "      <td>3.10</td>\n",
       "      <td>69</td>\n",
       "      <td>91</td>\n",
       "      <td>4</td>\n",
       "    </tr>\n",
       "    <tr>\n",
       "      <th>34</th>\n",
       "      <td>Germany</td>\n",
       "      <td>VW Dasher</td>\n",
       "      <td>30.5</td>\n",
       "      <td>2.190</td>\n",
       "      <td>3.70</td>\n",
       "      <td>78</td>\n",
       "      <td>97</td>\n",
       "      <td>4</td>\n",
       "    </tr>\n",
       "    <tr>\n",
       "      <th>35</th>\n",
       "      <td>Japan</td>\n",
       "      <td>Datsun 810</td>\n",
       "      <td>22.0</td>\n",
       "      <td>2.815</td>\n",
       "      <td>3.70</td>\n",
       "      <td>97</td>\n",
       "      <td>146</td>\n",
       "      <td>6</td>\n",
       "    </tr>\n",
       "    <tr>\n",
       "      <th>36</th>\n",
       "      <td>Germany</td>\n",
       "      <td>BMW 320i</td>\n",
       "      <td>21.5</td>\n",
       "      <td>2.600</td>\n",
       "      <td>3.64</td>\n",
       "      <td>110</td>\n",
       "      <td>121</td>\n",
       "      <td>4</td>\n",
       "    </tr>\n",
       "    <tr>\n",
       "      <th>37</th>\n",
       "      <td>Germany</td>\n",
       "      <td>VW Rabbit</td>\n",
       "      <td>31.9</td>\n",
       "      <td>1.925</td>\n",
       "      <td>3.78</td>\n",
       "      <td>71</td>\n",
       "      <td>89</td>\n",
       "      <td>4</td>\n",
       "    </tr>\n",
       "  </tbody>\n",
       "</table>\n",
       "</div>"
      ],
      "text/plain": [
       "    Country                        Car   MPG  Weight  Drive_Ratio  Horsepower  \\\n",
       "0      U.S.         Buick Estate Wagon  16.9   4.360         2.73         155   \n",
       "1      U.S.  Ford Country Squire Wagon  15.5   4.054         2.26         142   \n",
       "2      U.S.         Chevy Malibu Wagon  19.2   3.605         2.56         125   \n",
       "3      U.S.     Chrysler LeBaron Wagon  18.5   3.940         2.45         150   \n",
       "4      U.S.                   Chevette  30.0   2.155         3.70          68   \n",
       "5     Japan              Toyota Corona  27.5   2.560         3.05          95   \n",
       "6     Japan                 Datsun 510  27.2   2.300         3.54          97   \n",
       "7      U.S.                 Dodge Omni  30.9   2.230         3.37          75   \n",
       "8   Germany                  Audi 5000  20.3   2.830         3.90         103   \n",
       "9    Sweden               Volvo 240 GL  17.0   3.140         3.50         125   \n",
       "10   Sweden                Saab 99 GLE  21.6   2.795         3.77         115   \n",
       "11   France             Peugeot 694 SL  16.2   3.410         3.58         133   \n",
       "12     U.S.      Buick Century Special  20.6   3.380         2.73         105   \n",
       "13     U.S.             Mercury Zephyr  20.8   3.070         3.08          85   \n",
       "14     U.S.                Dodge Aspen  18.6   3.620         2.71         110   \n",
       "15     U.S.            AMC Concord D/L  18.1   3.410         2.73         120   \n",
       "16     U.S.      Chevy Caprice Classic  17.0   3.840         2.41         130   \n",
       "17     U.S.                   Ford LTD  17.6   3.725         2.26         129   \n",
       "18     U.S.      Mercury Grand Marquis  16.5   3.955         2.26         138   \n",
       "19     U.S.             Dodge St Regis  18.2   3.830         2.45         135   \n",
       "20     U.S.             Ford Mustang 4  26.5   2.585         3.08          88   \n",
       "21     U.S.          Ford Mustang Ghia  21.9   2.910         3.08         109   \n",
       "22    Japan                  Mazda GLC  34.1   1.975         3.73          65   \n",
       "23    Japan                 Dodge Colt  35.1   1.915         2.97          80   \n",
       "24     U.S.                 AMC Spirit  27.4   2.670         3.08          80   \n",
       "25  Germany                VW Scirocco  31.5   1.990         3.78          71   \n",
       "26    Japan            Honda Accord LX  29.5   2.135         3.05          68   \n",
       "27     U.S.              Buick Skylark  28.4   2.670         2.53          90   \n",
       "28     U.S.             Chevy Citation  28.8   2.595         2.69         115   \n",
       "29     U.S.                 Olds Omega  26.8   2.700         2.84         115   \n",
       "30     U.S.            Pontiac Phoenix  33.5   2.556         2.69          90   \n",
       "31     U.S.           Plymouth Horizon  34.2   2.200         3.37          70   \n",
       "32    Japan                 Datsun 210  31.8   2.020         3.70          65   \n",
       "33    Italy                Fiat Strada  37.3   2.130         3.10          69   \n",
       "34  Germany                  VW Dasher  30.5   2.190         3.70          78   \n",
       "35    Japan                 Datsun 810  22.0   2.815         3.70          97   \n",
       "36  Germany                   BMW 320i  21.5   2.600         3.64         110   \n",
       "37  Germany                  VW Rabbit  31.9   1.925         3.78          71   \n",
       "\n",
       "    Displacement  Cylinders  \n",
       "0            350          8  \n",
       "1            351          8  \n",
       "2            267          8  \n",
       "3            360          8  \n",
       "4             98          4  \n",
       "5            134          4  \n",
       "6            119          4  \n",
       "7            105          4  \n",
       "8            131          5  \n",
       "9            163          6  \n",
       "10           121          4  \n",
       "11           163          6  \n",
       "12           231          6  \n",
       "13           200          6  \n",
       "14           225          6  \n",
       "15           258          6  \n",
       "16           305          8  \n",
       "17           302          8  \n",
       "18           351          8  \n",
       "19           318          8  \n",
       "20           140          4  \n",
       "21           171          6  \n",
       "22            86          4  \n",
       "23            98          4  \n",
       "24           121          4  \n",
       "25            89          4  \n",
       "26            98          4  \n",
       "27           151          4  \n",
       "28           173          6  \n",
       "29           173          6  \n",
       "30           151          4  \n",
       "31           105          4  \n",
       "32            85          4  \n",
       "33            91          4  \n",
       "34            97          4  \n",
       "35           146          6  \n",
       "36           121          4  \n",
       "37            89          4  "
      ]
     },
     "execution_count": 33,
     "metadata": {},
     "output_type": "execute_result"
    }
   ],
   "source": [
    "# jeu de données de voitures http://lib.stat.cmu.edu/DASL/Datafiles/Cars.html\n",
    "text = '''Country\tCar\tMPG\tWeight\tDrive_Ratio\tHorsepower\tDisplacement\tCylinders\n",
    "U.S.\tBuick Estate Wagon\t16.9\t4.360\t2.73\t155\t350\t8\n",
    "U.S.\tFord Country Squire Wagon\t15.5\t4.054\t2.26\t142\t351\t8\n",
    "U.S.\tChevy Malibu Wagon\t19.2\t3.605\t2.56\t125\t267\t8\n",
    "U.S.\tChrysler LeBaron Wagon\t18.5\t3.940\t2.45\t150\t360\t8\n",
    "U.S.\tChevette\t30.0\t2.155\t3.70\t68\t98\t4\n",
    "Japan\tToyota Corona\t27.5\t2.560\t3.05\t95\t134\t4\n",
    "Japan\tDatsun 510\t27.2\t2.300\t3.54\t97\t119\t4\n",
    "U.S.\tDodge Omni\t30.9\t2.230\t3.37\t75\t105\t4\n",
    "Germany\tAudi 5000\t20.3\t2.830\t3.90\t103\t131\t5\n",
    "Sweden\tVolvo 240 GL\t17.0\t3.140\t3.50\t125\t163\t6\n",
    "Sweden\tSaab 99 GLE\t21.6\t2.795\t3.77\t115\t121\t4\n",
    "France\tPeugeot 694 SL\t16.2\t3.410\t3.58\t133\t163\t6\n",
    "U.S.\tBuick Century Special\t20.6\t3.380\t2.73\t105\t231\t6\n",
    "U.S.\tMercury Zephyr\t20.8\t3.070\t3.08\t85\t200\t6\n",
    "U.S.\tDodge Aspen\t18.6\t3.620\t2.71\t110\t225\t6\n",
    "U.S.\tAMC Concord D/L\t18.1\t3.410\t2.73\t120\t258\t6\n",
    "U.S.\tChevy Caprice Classic\t17.0\t3.840\t2.41\t130\t305\t8\n",
    "U.S.\tFord LTD\t17.6\t3.725\t2.26\t129\t302\t8\n",
    "U.S.\tMercury Grand Marquis\t16.5\t3.955\t2.26\t138\t351\t8\n",
    "U.S.\tDodge St Regis\t18.2\t3.830\t2.45\t135\t318\t8\n",
    "U.S.\tFord Mustang 4\t26.5\t2.585\t3.08\t88\t140\t4\n",
    "U.S.\tFord Mustang Ghia\t21.9\t2.910\t3.08\t109\t171\t6\n",
    "Japan\tMazda GLC\t34.1\t1.975\t3.73\t65\t86\t4\n",
    "Japan\tDodge Colt\t35.1\t1.915\t2.97\t80\t98\t4\n",
    "U.S.\tAMC Spirit\t27.4\t2.670\t3.08\t80\t121\t4\n",
    "Germany\tVW Scirocco\t31.5\t1.990\t3.78\t71\t89\t4\n",
    "Japan\tHonda Accord LX\t29.5\t2.135\t3.05\t68\t98\t4\n",
    "U.S.\tBuick Skylark\t28.4\t2.670\t2.53\t90\t151\t4\n",
    "U.S.\tChevy Citation\t28.8\t2.595\t2.69\t115\t173\t6\n",
    "U.S.\tOlds Omega\t26.8\t2.700\t2.84\t115\t173\t6\n",
    "U.S.\tPontiac Phoenix\t33.5\t2.556\t2.69\t90\t151\t4\n",
    "U.S.\tPlymouth Horizon\t34.2\t2.200\t3.37\t70\t105\t4\n",
    "Japan\tDatsun 210\t31.8\t2.020\t3.70\t65\t85\t4\n",
    "Italy\tFiat Strada\t37.3\t2.130\t3.10\t69\t91\t4\n",
    "Germany\tVW Dasher\t30.5\t2.190\t3.70\t78\t97\t4\n",
    "Japan\tDatsun 810\t22.0\t2.815\t3.70\t97\t146\t6\n",
    "Germany\tBMW 320i\t21.5\t2.600\t3.64\t110\t121\t4\n",
    "Germany\tVW Rabbit\t31.9\t1.925\t3.78\t71\t89\t4\n",
    "'''\n",
    "s = io.StringIO(text)\n",
    "data = pd.read_csv(s, delimiter = '\\t')\n",
    "#data.to_csv('cars.txt', index=False)\n",
    "print(data.info())\n",
    "data"
   ]
  },
  {
   "cell_type": "code",
   "execution_count": 34,
   "metadata": {},
   "outputs": [
    {
     "data": {
      "text/html": [
       "<div>\n",
       "<style scoped>\n",
       "    .dataframe tbody tr th:only-of-type {\n",
       "        vertical-align: middle;\n",
       "    }\n",
       "\n",
       "    .dataframe tbody tr th {\n",
       "        vertical-align: top;\n",
       "    }\n",
       "\n",
       "    .dataframe thead th {\n",
       "        text-align: right;\n",
       "    }\n",
       "</style>\n",
       "<table border=\"1\" class=\"dataframe\">\n",
       "  <thead>\n",
       "    <tr style=\"text-align: right;\">\n",
       "      <th></th>\n",
       "      <th>MPG</th>\n",
       "      <th>Weight</th>\n",
       "      <th>Drive_Ratio</th>\n",
       "      <th>Horsepower</th>\n",
       "      <th>Displacement</th>\n",
       "      <th>Cylinders</th>\n",
       "    </tr>\n",
       "  </thead>\n",
       "  <tbody>\n",
       "    <tr>\n",
       "      <th>count</th>\n",
       "      <td>38.000000</td>\n",
       "      <td>38.000000</td>\n",
       "      <td>38.000000</td>\n",
       "      <td>38.000000</td>\n",
       "      <td>38.000000</td>\n",
       "      <td>38.000000</td>\n",
       "    </tr>\n",
       "    <tr>\n",
       "      <th>mean</th>\n",
       "      <td>24.760526</td>\n",
       "      <td>2.862895</td>\n",
       "      <td>3.093421</td>\n",
       "      <td>101.736842</td>\n",
       "      <td>177.289474</td>\n",
       "      <td>5.394737</td>\n",
       "    </tr>\n",
       "    <tr>\n",
       "      <th>std</th>\n",
       "      <td>6.547314</td>\n",
       "      <td>0.706870</td>\n",
       "      <td>0.517657</td>\n",
       "      <td>26.444929</td>\n",
       "      <td>88.876747</td>\n",
       "      <td>1.603029</td>\n",
       "    </tr>\n",
       "    <tr>\n",
       "      <th>min</th>\n",
       "      <td>15.500000</td>\n",
       "      <td>1.915000</td>\n",
       "      <td>2.260000</td>\n",
       "      <td>65.000000</td>\n",
       "      <td>85.000000</td>\n",
       "      <td>4.000000</td>\n",
       "    </tr>\n",
       "    <tr>\n",
       "      <th>25%</th>\n",
       "      <td>18.525000</td>\n",
       "      <td>2.207500</td>\n",
       "      <td>2.695000</td>\n",
       "      <td>78.500000</td>\n",
       "      <td>105.000000</td>\n",
       "      <td>4.000000</td>\n",
       "    </tr>\n",
       "    <tr>\n",
       "      <th>50%</th>\n",
       "      <td>24.250000</td>\n",
       "      <td>2.685000</td>\n",
       "      <td>3.080000</td>\n",
       "      <td>100.000000</td>\n",
       "      <td>148.500000</td>\n",
       "      <td>4.500000</td>\n",
       "    </tr>\n",
       "    <tr>\n",
       "      <th>75%</th>\n",
       "      <td>30.375000</td>\n",
       "      <td>3.410000</td>\n",
       "      <td>3.625000</td>\n",
       "      <td>123.750000</td>\n",
       "      <td>229.500000</td>\n",
       "      <td>6.000000</td>\n",
       "    </tr>\n",
       "    <tr>\n",
       "      <th>max</th>\n",
       "      <td>37.300000</td>\n",
       "      <td>4.360000</td>\n",
       "      <td>3.900000</td>\n",
       "      <td>155.000000</td>\n",
       "      <td>360.000000</td>\n",
       "      <td>8.000000</td>\n",
       "    </tr>\n",
       "  </tbody>\n",
       "</table>\n",
       "</div>"
      ],
      "text/plain": [
       "             MPG     Weight  Drive_Ratio  Horsepower  Displacement  Cylinders\n",
       "count  38.000000  38.000000    38.000000   38.000000     38.000000  38.000000\n",
       "mean   24.760526   2.862895     3.093421  101.736842    177.289474   5.394737\n",
       "std     6.547314   0.706870     0.517657   26.444929     88.876747   1.603029\n",
       "min    15.500000   1.915000     2.260000   65.000000     85.000000   4.000000\n",
       "25%    18.525000   2.207500     2.695000   78.500000    105.000000   4.000000\n",
       "50%    24.250000   2.685000     3.080000  100.000000    148.500000   4.500000\n",
       "75%    30.375000   3.410000     3.625000  123.750000    229.500000   6.000000\n",
       "max    37.300000   4.360000     3.900000  155.000000    360.000000   8.000000"
      ]
     },
     "execution_count": 34,
     "metadata": {},
     "output_type": "execute_result"
    }
   ],
   "source": [
    "#data.describe(include = 'all')\n",
    "data.describe()"
   ]
  },
  {
   "cell_type": "code",
   "execution_count": 35,
   "metadata": {},
   "outputs": [
    {
     "data": {
      "text/html": [
       "<div>\n",
       "<style scoped>\n",
       "    .dataframe tbody tr th:only-of-type {\n",
       "        vertical-align: middle;\n",
       "    }\n",
       "\n",
       "    .dataframe tbody tr th {\n",
       "        vertical-align: top;\n",
       "    }\n",
       "\n",
       "    .dataframe thead th {\n",
       "        text-align: right;\n",
       "    }\n",
       "</style>\n",
       "<table border=\"1\" class=\"dataframe\">\n",
       "  <thead>\n",
       "    <tr style=\"text-align: right;\">\n",
       "      <th></th>\n",
       "      <th>Car</th>\n",
       "      <th>Country</th>\n",
       "    </tr>\n",
       "  </thead>\n",
       "  <tbody>\n",
       "    <tr>\n",
       "      <th>count</th>\n",
       "      <td>38</td>\n",
       "      <td>38</td>\n",
       "    </tr>\n",
       "    <tr>\n",
       "      <th>unique</th>\n",
       "      <td>38</td>\n",
       "      <td>6</td>\n",
       "    </tr>\n",
       "    <tr>\n",
       "      <th>top</th>\n",
       "      <td>Buick Estate Wagon</td>\n",
       "      <td>U.S.</td>\n",
       "    </tr>\n",
       "    <tr>\n",
       "      <th>freq</th>\n",
       "      <td>1</td>\n",
       "      <td>22</td>\n",
       "    </tr>\n",
       "  </tbody>\n",
       "</table>\n",
       "</div>"
      ],
      "text/plain": [
       "                       Car Country\n",
       "count                   38      38\n",
       "unique                  38       6\n",
       "top     Buick Estate Wagon    U.S.\n",
       "freq                     1      22"
      ]
     },
     "execution_count": 35,
     "metadata": {},
     "output_type": "execute_result"
    },
    {
     "data": {
      "image/png": "[encoded data removed]",
      "text/plain": [
       "<Figure size 432x288 with 1 Axes>"
      ]
     },
     "metadata": {
      "needs_background": "light"
     },
     "output_type": "display_data"
    }
   ],
   "source": [
    "data['Country'].value_counts().plot(kind='bar')\n",
    "data[['Car', 'Country']].describe()"
   ]
  },
  {
   "cell_type": "code",
   "execution_count": 36,
   "metadata": {},
   "outputs": [
    {
     "data": {
      "text/plain": [
       "Country                       U.S.\n",
       "Car             Buick Estate Wagon\n",
       "MPG                           16.9\n",
       "Weight                        4.36\n",
       "Drive_Ratio                   2.73\n",
       "Horsepower                     155\n",
       "Displacement                   350\n",
       "Cylinders                        8\n",
       "Name: 0, dtype: object"
      ]
     },
     "execution_count": 36,
     "metadata": {},
     "output_type": "execute_result"
    }
   ],
   "source": [
    "# exemple de vecteur ou enregistrement\n",
    "data.loc[0]"
   ]
  },
  {
   "cell_type": "markdown",
   "metadata": {},
   "source": [
    "## Exercice\n",
    "1. Quel est le type des attributs?\n",
    "1. Proposer une méthode pour déterminer le pays avec les véhicules les plus économes"
   ]
  },
  {
   "cell_type": "code",
   "execution_count": 37,
   "metadata": {},
   "outputs": [
    {
     "data": {
      "text/plain": [
       "<matplotlib.collections.PathCollection at 0x7f1d34e22a70>"
      ]
     },
     "execution_count": 37,
     "metadata": {},
     "output_type": "execute_result"
    },
    {
     "data": {
      "image/png": "[encoded data removed]",
      "text/plain": [
       "<Figure size 432x288 with 1 Axes>"
      ]
     },
     "metadata": {
      "needs_background": "light"
     },
     "output_type": "display_data"
    }
   ],
   "source": [
    "plt.scatter(data.Weight, data.MPG)"
   ]
  },
  {
   "cell_type": "markdown",
   "metadata": {},
   "source": [
    "## Exemple de fichier de comptage de vélos\n",
    "Source http://donnees.ville.montreal.qc.ca/dataset/velos-comptage"
   ]
  },
  {
   "cell_type": "code",
   "execution_count": 38,
   "metadata": {},
   "outputs": [
    {
     "name": "stdout",
     "output_type": "stream",
     "text": [
      "<class 'pandas.core.frame.DataFrame'>\n",
      "RangeIndex: 366 entries, 0 to 365\n",
      "Data columns (total 20 columns):\n",
      " #   Column                       Non-Null Count  Dtype  \n",
      "---  ------                       --------------  -----  \n",
      " 0   Date                         366 non-null    object \n",
      " 1   Unnamed: 1                   366 non-null    object \n",
      " 2   Berri1                       366 non-null    int64  \n",
      " 3   Boyer                        366 non-null    int64  \n",
      " 4   Brébeuf                      366 non-null    int64  \n",
      " 5   CSC (Côte Sainte-Catherine)  344 non-null    float64\n",
      " 6   Maisonneuve_2                321 non-null    float64\n",
      " 7   Maisonneuve_3                366 non-null    int64  \n",
      " 8   Notre-Dame                   366 non-null    int64  \n",
      " 9   Parc                         366 non-null    int64  \n",
      " 10  PierDup                      366 non-null    int64  \n",
      " 11  Pont_Jacques_Cartier         366 non-null    int64  \n",
      " 12  Rachel / Hôtel de Ville      197 non-null    float64\n",
      " 13  Rachel / Papineau            366 non-null    int64  \n",
      " 14  René-Lévesque                366 non-null    int64  \n",
      " 15  Saint-Antoine                366 non-null    int64  \n",
      " 16  Saint-Urbain                 366 non-null    int64  \n",
      " 17  Totem_Laurier                366 non-null    int64  \n",
      " 18  University                   366 non-null    int64  \n",
      " 19  Viger                        366 non-null    int64  \n",
      "dtypes: float64(3), int64(15), object(2)\n",
      "memory usage: 57.3+ KB\n",
      "None\n"
     ]
    },
    {
     "data": {
      "text/plain": [
       "[<matplotlib.lines.Line2D at 0x7f1d34ea3190>]"
      ]
     },
     "execution_count": 38,
     "metadata": {},
     "output_type": "execute_result"
    },
    {
     "data": {
      "image/png": "[encoded data removed]",
      "text/plain": [
       "<Figure size 432x288 with 1 Axes>"
      ]
     },
     "metadata": {
      "needs_background": "light"
     },
     "output_type": "display_data"
    }
   ],
   "source": [
    "# comptages vélo\n",
    "filename, message = urllib.request.urlretrieve('http://donnees.ville.montreal.qc.ca/dataset/f170fecc-18db-44bc-b4fe-5b0b6d2c7297/resource/6caecdd0-e5ac-48c1-a0cc-5b537936d5f6/download/comptagevelo20162.csv')\n",
    "data = pd.read_csv(filename)\n",
    "print(data.info())\n",
    "plt.plot(data['CSC (Côte Sainte-Catherine)'])"
   ]
  },
  {
   "cell_type": "code",
   "execution_count": 39,
   "metadata": {},
   "outputs": [
    {
     "data": {
      "text/plain": [
       "Text(0, 0.5, 'Nombre de cyclistes')"
      ]
     },
     "execution_count": 39,
     "metadata": {},
     "output_type": "execute_result"
    },
    {
     "data": {
      "image/png": "[encoded data removed]",
      "text/plain": [
       "<Figure size 432x288 with 1 Axes>"
      ]
     },
     "metadata": {
      "needs_background": "light"
     },
     "output_type": "display_data"
    }
   ],
   "source": [
    "# 01/01/16 était un vendredi, le 4 était un lundi\n",
    "cscComptage = np.array(data['CSC (Côte Sainte-Catherine)'].tolist()[4:4+51*7]).reshape(51,7)\n",
    "for r in cscComptage:\n",
    "    plt.plot(r)\n",
    "plt.xticks(range(7),['lundi', 'mardi', 'mercredi', 'jeudi', 'vendredi', 'samedi', 'dimanche'])\n",
    "plt.ylabel('Nombre de cyclistes')"
   ]
  },
  {
   "cell_type": "code",
   "execution_count": 40,
   "metadata": {},
   "outputs": [
    {
     "data": {
      "text/plain": [
       "<matplotlib.colorbar.Colorbar at 0x7f1d344287f0>"
      ]
     },
     "execution_count": 40,
     "metadata": {},
     "output_type": "execute_result"
    },
    {
     "data": {
      "image/png": "[encoded data removed]",
      "text/plain": [
       "<Figure size 432x288 with 2 Axes>"
      ]
     },
     "metadata": {
      "needs_background": "light"
     },
     "output_type": "display_data"
    }
   ],
   "source": [
    "plt.imshow(cscComptage, interpolation = 'none', aspect = 'auto')\n",
    "plt.colorbar()"
   ]
  },
  {
   "cell_type": "markdown",
   "metadata": {},
   "source": [
    "## Exercice\n",
    "1. Les semaines sont-elle bien représentées? \n",
    "1. À quoi correspondent les bandes blanches dans l'image?"
   ]
  },
  {
   "cell_type": "markdown",
   "metadata": {},
   "source": [
    "## Données bixi\n",
    "Source https://bixi.com/fr/page-27"
   ]
  },
  {
   "cell_type": "code",
   "execution_count": 41,
   "metadata": {},
   "outputs": [],
   "source": [
    "# données bixi\n",
    "filename, message = urllib.request.urlretrieve('https://sitewebbixi.s3.amazonaws.com/uploads/docs/biximontrealrentals2018-96034e.zip')\n",
    "zip=zipfile.ZipFile(filename)\n",
    "data = pd.read_csv(zip.open(zip.namelist()[0]))"
   ]
  },
  {
   "cell_type": "code",
   "execution_count": 42,
   "metadata": {},
   "outputs": [
    {
     "name": "stdout",
     "output_type": "stream",
     "text": [
      "<class 'pandas.core.frame.DataFrame'>\n",
      "RangeIndex: 236982 entries, 0 to 236981\n",
      "Data columns (total 6 columns):\n",
      " #   Column              Non-Null Count   Dtype \n",
      "---  ------              --------------   ----- \n",
      " 0   start_date          236982 non-null  object\n",
      " 1   start_station_code  236982 non-null  int64 \n",
      " 2   end_date            236982 non-null  object\n",
      " 3   end_station_code    236982 non-null  int64 \n",
      " 4   duration_sec        236982 non-null  int64 \n",
      " 5   is_member           236982 non-null  int64 \n",
      "dtypes: int64(4), object(2)\n",
      "memory usage: 10.8+ MB\n",
      "None\n",
      "       start_station_code  end_station_code   duration_sec      is_member\n",
      "count       236982.000000     236982.000000  236982.000000  236982.000000\n",
      "mean          6331.585150       6329.277595     732.055034       0.873379\n",
      "std            408.427612        422.346590     580.180470       0.332549\n",
      "min           4000.000000       4000.000000      61.000000       0.000000\n",
      "25%           6118.000000       6104.000000     325.000000       1.000000\n",
      "50%           6209.000000       6205.000000     565.000000       1.000000\n",
      "75%           6395.000000       6401.000000     979.000000       1.000000\n",
      "max          10002.000000      10002.000000    7189.000000       1.000000\n"
     ]
    }
   ],
   "source": [
    "print(data.info())\n",
    "print(data.describe())\n",
    "# reflechir aux types, sens de moyenner des codes de station"
   ]
  },
  {
   "cell_type": "markdown",
   "metadata": {},
   "source": [
    "## Données météo d'Environnement Canada"
   ]
  },
  {
   "cell_type": "code",
   "execution_count": 43,
   "metadata": {},
   "outputs": [],
   "source": [
    "# données météo d'Environnement Canada\n",
    "#filename, message = urllib.request.urlretrieve('http://climate.weather.gc.ca/climate_data/bulk_data_f.html?format=csv&stationID=10761&Year=2017&Month=1&Day=1&timeframe=2&submit=Download+Data')\n",
    "filename, message = urllib.request.urlretrieve('http://climate.weather.gc.ca/climate_data/bulk_data_f.html?format=csv&stationID=10761&Year=2017&Month=7&Day=1&timeframe=1&submit=Download+Data')\n",
    "data = pd.read_csv(filename, delimiter = ',')"
   ]
  },
  {
   "cell_type": "code",
   "execution_count": 44,
   "metadata": {},
   "outputs": [
    {
     "name": "stdout",
     "output_type": "stream",
     "text": [
      "<class 'pandas.core.frame.DataFrame'>\n",
      "RangeIndex: 744 entries, 0 to 743\n",
      "Data columns (total 30 columns):\n",
      " #   Column                            Non-Null Count  Dtype  \n",
      "---  ------                            --------------  -----  \n",
      " 0   Longitude (x)                     744 non-null    object \n",
      " 1   Latitude (y)                      744 non-null    object \n",
      " 2   Nom de la Station                 744 non-null    object \n",
      " 3   ID climatologique                 744 non-null    int64  \n",
      " 4   Date/Heure (HNL)                  744 non-null    object \n",
      " 5   Année                             744 non-null    int64  \n",
      " 6   Mois                              744 non-null    int64  \n",
      " 7   Jour                              744 non-null    int64  \n",
      " 8   Heure (HNL)                       744 non-null    object \n",
      " 9   Temp (°C)                         742 non-null    object \n",
      " 10  Temp Indicateur                   0 non-null      float64\n",
      " 11  Point de rosée (°C)               742 non-null    object \n",
      " 12  Point de rosée Indicateur         0 non-null      float64\n",
      " 13  Hum. rel (%)                      742 non-null    float64\n",
      " 14  Hum. rel. Indicateur              0 non-null      float64\n",
      " 15  Hauteur de précip. (mm)           742 non-null    object \n",
      " 16  Hauteur de précip. Indicateur     0 non-null      float64\n",
      " 17  Dir. du vent (10s deg)            685 non-null    float64\n",
      " 18  Dir. du vent Indicateur           0 non-null      float64\n",
      " 19  Vit. du vent (km/h)               742 non-null    float64\n",
      " 20  Vit. du vent Indicateur           0 non-null      float64\n",
      " 21  Visibilité (km)                   0 non-null      float64\n",
      " 22  Visibilité Indicateur             0 non-null      float64\n",
      " 23  Pression à la station (kPa)       742 non-null    object \n",
      " 24  Pression à la station Indicateur  0 non-null      float64\n",
      " 25  Hmdx                              363 non-null    float64\n",
      " 26  Hmdx Indicateur                   0 non-null      float64\n",
      " 27  Refroid. éolien                   0 non-null      float64\n",
      " 28  Refroid. éolien Indicateur        0 non-null      float64\n",
      " 29  Temps                             742 non-null    object \n",
      "dtypes: float64(16), int64(4), object(10)\n",
      "memory usage: 174.5+ KB\n",
      "None\n"
     ]
    },
    {
     "data": {
      "image/png": "[encoded data removed]",
      "text/plain": [
       "<Figure size 432x288 with 1 Axes>"
      ]
     },
     "metadata": {
      "needs_background": "light"
     },
     "output_type": "display_data"
    }
   ],
   "source": [
    "print(data.info())\n",
    "plt.plot(data['Hum. rel (%)'])\n",
    "plt.show()\n",
    "#data.describe()\n",
    "# plt.plot"
   ]
  }
 ],
 "metadata": {
  "kernelspec": {
   "display_name": "Python 3 (ipykernel)",
   "language": "python",
   "name": "python3"
  },
  "language_info": {
   "codemirror_mode": {
    "name": "ipython",
    "version": 3
   },
   "file_extension": ".py",
   "mimetype": "text/x-python",
   "name": "python",
   "nbconvert_exporter": "python",
   "pygments_lexer": "ipython3",
   "version": "3.10.12"
  }
 },
 "nbformat": 4,
 "nbformat_minor": 4
}
