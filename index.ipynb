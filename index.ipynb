{
 "cells": [
  {
   "cell_type": "markdown",
   "metadata": {},
   "source": [
    "# Table des matières\n",
    "\n",
    "0. [Ressources pour installer et apprendre le langage Python](Python/README.md) et [tutoriel Python](Python/tutoriel-python.ipynb)\n",
    "\n",
    "\n",
    "3. [Traitement de données](03-traitement-donnees.ipynb)\n",
    "5. [Données spatiales](05-donnees-spatiales.ipynb)\n",
    "\n",
    "6. [Analyse statistique](06-analyse-statistique.ipynb)\n",
    "7. [Modèles statistiques](07-modeles-statistiques.ipynb)\n",
    "8. [Visualisation de données](08-visualisation.ipynb)\n",
    "9. [Fouille de données](09-fouille-donnees.ipynb)\n",
    "10. [Analyse spatiale](10-analyse-spatiale.ipynb)\n",
    "\n",
    "Ressources du PolyWikiTI (en anglais)\n",
    "* Ressources de programmation https://www.polymtl.ca/wikitransport/index.php?title=Programming_Resources\n",
    "* Ressources de science des données https://www.polymtl.ca/wikitransport/index.php?title=Data_Science_Resources"
   ]
  }
 ],
 "metadata": {
  "kernelspec": {
   "display_name": "Python 3 (ipykernel)",
   "language": "python",
   "name": "python3"
  },
  "language_info": {
   "codemirror_mode": {
    "name": "ipython",
    "version": 3
   },
   "file_extension": ".py",
   "mimetype": "text/x-python",
   "name": "python",
   "nbconvert_exporter": "python",
   "pygments_lexer": "ipython3",
   "version": "3.11.4"
  }
 },
 "nbformat": 4,
 "nbformat_minor": 4
}
